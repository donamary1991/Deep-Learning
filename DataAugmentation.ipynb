{
  "nbformat": 4,
  "nbformat_minor": 0,
  "metadata": {
    "colab": {
      "provenance": []
    },
    "kernelspec": {
      "name": "python3",
      "display_name": "Python 3"
    },
    "language_info": {
      "name": "python"
    }
  },
  "cells": [
    {
      "cell_type": "code",
      "source": [
        "from keras.src.legacy.preprocessing.image import ImageDataGenerator"
      ],
      "metadata": {
        "id": "QiQtKv89oEcC"
      },
      "execution_count": 1,
      "outputs": []
    },
    {
      "cell_type": "markdown",
      "source": [
        "Purpose: This imports ImageDataGenerator from Keras. This class is used for data augmentation, meaning creating variations of your images for training machine learning models."
      ],
      "metadata": {
        "id": "kqlKxWep61pu"
      }
    },
    {
      "cell_type": "code",
      "execution_count": 2,
      "metadata": {
        "id": "6ADIL42rnBgF"
      },
      "outputs": [],
      "source": [
        "from keras.preprocessing.image import array_to_img,img_to_array,load_img"
      ]
    },
    {
      "cell_type": "markdown",
      "source": [
        "\n",
        "    Purpose: Imports functions for image manipulation:\n",
        "        array_to_img: Converts a NumPy array to a PIL Image.\n",
        "        img_to_array: Converts a PIL Image to a NumPy array.\n",
        "        load_img: Loads an image from a file and returns it as a PIL Image.\n",
        "        PIL:-Python Imaging Library.\n"
      ],
      "metadata": {
        "id": "BiUijoX47Xwz"
      }
    },
    {
      "cell_type": "code",
      "source": [
        "datagen=load_img('/content/Untitled.jpeg')"
      ],
      "metadata": {
        "id": "fgpmCeuUoXdx"
      },
      "execution_count": 4,
      "outputs": []
    },
    {
      "cell_type": "markdown",
      "source": [
        "Purpose: Loads an image named 'Untitled.jpeg' located in the '/content/' directory (Colab's default workspace) and stores it in the variable datagen."
      ],
      "metadata": {
        "id": "UOK2YpBu87uF"
      }
    },
    {
      "cell_type": "code",
      "source": [
        "x=img_to_array(datagen)"
      ],
      "metadata": {
        "id": "Odu6n-dUos18"
      },
      "execution_count": 6,
      "outputs": []
    },
    {
      "cell_type": "markdown",
      "source": [
        "Purpose: Converts the loaded image (datagen) into a NumPy array and stores it in the variable x. This is a common step for processing images in machine learning."
      ],
      "metadata": {
        "id": "9q885vlY9MYb"
      }
    },
    {
      "cell_type": "code",
      "source": [
        "x.shape"
      ],
      "metadata": {
        "colab": {
          "base_uri": "https://localhost:8080/"
        },
        "id": "2DLWlgefozKt",
        "outputId": "bb1240eb-1464-4117-e236-acaaa2b9dbca"
      },
      "execution_count": 7,
      "outputs": [
        {
          "output_type": "execute_result",
          "data": {
            "text/plain": [
              "(183, 275, 3)"
            ]
          },
          "metadata": {},
          "execution_count": 7
        }
      ]
    },
    {
      "cell_type": "markdown",
      "source": [
        "Purpose: Prints the shape of the NumPy array x. The shape tells you the dimensions of the image (height, width, channels). To see the output, run the code."
      ],
      "metadata": {
        "id": "-MRs3WgF9Wmr"
      }
    },
    {
      "cell_type": "code",
      "source": [
        "y=x.reshape((1,)+x.shape)"
      ],
      "metadata": {
        "id": "OOa49N6bqf3y"
      },
      "execution_count": 8,
      "outputs": []
    },
    {
      "cell_type": "markdown",
      "source": [
        "Purpose: Reshapes the NumPy array x to add an extra dimension. This is often done to make the image data compatible with the input format expected by Keras models, which usually require a batch dimension (even for a single image)."
      ],
      "metadata": {
        "id": "ll0fYfLm9qOp"
      }
    },
    {
      "cell_type": "code",
      "source": [
        "y.shape"
      ],
      "metadata": {
        "colab": {
          "base_uri": "https://localhost:8080/"
        },
        "id": "R_mcpXo9rdUH",
        "outputId": "245ee8f4-fb88-49f1-9b23-a072d6692124"
      },
      "execution_count": null,
      "outputs": [
        {
          "output_type": "execute_result",
          "data": {
            "text/plain": [
              "(1, 202, 250, 3)"
            ]
          },
          "metadata": {},
          "execution_count": 16
        }
      ]
    },
    {
      "cell_type": "code",
      "source": [
        "# Model Creation\n",
        "image_aug=ImageDataGenerator(rotation_range=40,width_shift_range=0.2,height_shift_range=0.2,shear_range=0.2,zoom_range=0.2,horizontal_flip=True,fill_mode='nearest')"
      ],
      "metadata": {
        "id": "Vip6FCnEpA_X"
      },
      "execution_count": 9,
      "outputs": []
    },
    {
      "cell_type": "markdown",
      "source": [
        "\n",
        "    Purpose: Creates an ImageDataGenerator instance with various augmentation parameters. These parameters control how the images will be transformed:\n",
        "        rotation_range: Randomly rotates images by up to 40 degrees.\n",
        "        width_shift_range: Randomly shifts images horizontally by up to 20% of the width.\n",
        "        height_shift_range: Randomly shifts images vertically by up to 20% of the height.\n",
        "        shear_range: Applies random shearing transformations.\n",
        "        zoom_range: Randomly zooms images.\n",
        "        horizontal_flip: Randomly flips images horizontally.\n",
        "        fill_mode: Determines how empty pixels are filled after transformations ('nearest' in this case).\n"
      ],
      "metadata": {
        "id": "eSlj9Nux-e9y"
      }
    },
    {
      "cell_type": "markdown",
      "source": [],
      "metadata": {
        "id": "V6sayuYG9oey"
      }
    },
    {
      "cell_type": "code",
      "source": [
        "counter=0\n",
        "for i in image_aug.flow(y,batch_size = 1,save_to_dir='/content/drive/MyDrive/Deep_Learning/Data_Augmentation1',save_prefix='Tiger',save_format='jpeg'):\n",
        "      # Increment the counter inside the loop\n",
        "    counter += 1\n",
        "\n",
        "    # Add a break statement to limit the number of augmentations\n",
        "    # This loop will generate 10 augmented images and then stop\n",
        "    if counter > 5:\n",
        "        break"
      ],
      "metadata": {
        "id": "mdYUWb3BpWm4"
      },
      "execution_count": 20,
      "outputs": []
    },
    {
      "cell_type": "markdown",
      "source": [
        "\n",
        "    Purpose: Applies the augmentations defined in image_aug to the image x.\n",
        "        flow: Generates batches of augmented images.\n",
        "        batch_size=1: Processes one image at a time.\n",
        "        save_to_dir='preview': Saves the augmented images to a directory named 'preview'.\n",
        "        save_prefix='cat': Adds the prefix 'cat' to the filenames of saved images.\n",
        "        save_format='jpeg': Saves images in JPEG format.\n",
        "\n"
      ],
      "metadata": {
        "id": "Pgo6M678-5hf"
      }
    }
  ]
}
