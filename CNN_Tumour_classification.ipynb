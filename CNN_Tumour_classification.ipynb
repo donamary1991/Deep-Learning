{
  "nbformat": 4,
  "nbformat_minor": 0,
  "metadata": {
    "colab": {
      "provenance": [],
      "gpuType": "T4"
    },
    "kernelspec": {
      "name": "python3",
      "display_name": "Python 3"
    },
    "language_info": {
      "name": "python"
    },
    "accelerator": "GPU"
  },
  "cells": [
    {
      "cell_type": "code",
      "source": [
        "from skimage.io import imread\n",
        "from skimage.transform import resize\n",
        "import os\n",
        "# directory and filemanagement\n",
        "import tensorflow as tf\n",
        "from tensorflow.keras.models import Sequential\n",
        "# model creation\n",
        "from tensorflow.keras.layers import Conv2D,MaxPool2D,Flatten\n",
        "import warnings\n",
        "warnings.filterwarnings('ignore')"
      ],
      "metadata": {
        "id": "TMdF3Q9Ey60h"
      },
      "execution_count": 46,
      "outputs": []
    },
    {
      "cell_type": "code",
      "source": [
        "os.listdir('/content/drive/MyDrive/Deep_Learning/Brain-Tumor-Classification-DataSet-master')\n",
        "# training dataset path"
      ],
      "metadata": {
        "colab": {
          "base_uri": "https://localhost:8080/"
        },
        "id": "LdPJzalM0GOe",
        "outputId": "f50c7ab9-630a-43f9-a4df-5b94a4e5c0fb"
      },
      "execution_count": 14,
      "outputs": [
        {
          "output_type": "execute_result",
          "data": {
            "text/plain": [
              "['Testing', 'Training']"
            ]
          },
          "metadata": {},
          "execution_count": 14
        }
      ]
    },
    {
      "cell_type": "code",
      "source": [
        "train_path='/content/drive/MyDrive/Deep_Learning/Brain-Tumor-Classification-DataSet-master/Training'"
      ],
      "metadata": {
        "id": "IkBfDZpjGEk6"
      },
      "execution_count": 16,
      "outputs": []
    },
    {
      "cell_type": "code",
      "source": [
        "x_train=[]\n",
        "y_train=[]\n",
        "\n",
        "categories=['glioma_tumor','pituitary_tumor','no_tumor','meningioma_tumor']\n",
        "for category in categories:\n",
        "  sub_dir_path=os.path.join(train_path,category)\n",
        "  images=os.listdir(sub_dir_path)\n",
        "  for image in images:\n",
        "    image_path=os.path.join(sub_dir_path,image)\n",
        "    img_array=imread(image_path)\n",
        "    img_resized=resize(img_array,(150,150,1))\n",
        "    # resize function changes dimension and normalisation too\n",
        "    x_train.append(img_resized)\n",
        "    y_train.append(categories.index(category))\n",
        "  print(\"Loaded......\",category)\n",
        "\n"
      ],
      "metadata": {
        "colab": {
          "base_uri": "https://localhost:8080/"
        },
        "id": "UL8Ejam5GHjr",
        "outputId": "ac6cdd72-1fbe-4c3b-e1de-5b498d9846fc"
      },
      "execution_count": 25,
      "outputs": [
        {
          "output_type": "stream",
          "name": "stdout",
          "text": [
            "Loaded...... glioma_tumor\n",
            "Loaded...... pituitary_tumor\n",
            "Loaded...... no_tumor\n",
            "Loaded...... meningioma_tumor\n"
          ]
        }
      ]
    },
    {
      "cell_type": "code",
      "source": [
        "test_path='/content/drive/MyDrive/Deep_Learning/Brain-Tumor-Classification-DataSet-master/Testing'"
      ],
      "metadata": {
        "id": "avTWbK0abRyU"
      },
      "execution_count": 26,
      "outputs": []
    },
    {
      "cell_type": "code",
      "source": [
        "x_test=[]\n",
        "y_test=[]\n",
        "\n",
        "for category in categories:\n",
        "  sub_dir_path==os.path.join(test_path,category)\n",
        "  images=os.listdir(sub_dir_path)\n",
        "  for image in images:\n",
        "    image_path=os.path.join(sub_dir_path,image)\n",
        "    img_array=imread(image_path)\n",
        "    img_resized=resize(img_array,(150,150,1))\n",
        "    x_test.append(img_resized)\n",
        "    y_test.append(categories.index(category))\n",
        "  print(\"Loaded......\",category)"
      ],
      "metadata": {
        "colab": {
          "base_uri": "https://localhost:8080/"
        },
        "id": "Id7ldxhcU2fd",
        "outputId": "178e980b-6f26-479d-bc40-4af880291d1c"
      },
      "execution_count": 28,
      "outputs": [
        {
          "output_type": "stream",
          "name": "stdout",
          "text": [
            "Loaded...... meningioma_tumor\n"
          ]
        }
      ]
    },
    {
      "cell_type": "code",
      "source": [
        "import numpy as np\n",
        "X_train=np.array(x_train)\n",
        "Y_train=np.array(y_train)\n",
        "X_test=np.array(x_test)\n",
        "Y_test=np.array(y_test)"
      ],
      "metadata": {
        "id": "Z_VQtQwDeweM"
      },
      "execution_count": 34,
      "outputs": []
    },
    {
      "cell_type": "code",
      "source": [
        "X_train.shape\n",
        "# (2870,150,150,1)\n",
        "# 2870-total no. of images\n",
        "# 150*150-each image dimension\n",
        "# 1 =>each pixel in each image  represented by a single value\n"
      ],
      "metadata": {
        "colab": {
          "base_uri": "https://localhost:8080/"
        },
        "id": "GSUAJ24dXXPQ",
        "outputId": "d170c912-c294-42b1-d31c-79f6994740fc"
      },
      "execution_count": 40,
      "outputs": [
        {
          "output_type": "execute_result",
          "data": {
            "text/plain": [
              "(2870, 150, 150, 1)"
            ]
          },
          "metadata": {},
          "execution_count": 40
        }
      ]
    },
    {
      "cell_type": "code",
      "source": [
        "Y_train.shape"
      ],
      "metadata": {
        "colab": {
          "base_uri": "https://localhost:8080/"
        },
        "id": "TqNvX0j8n2sA",
        "outputId": "865fe0d7-05c9-4598-901c-aa197d695674"
      },
      "execution_count": 39,
      "outputs": [
        {
          "output_type": "execute_result",
          "data": {
            "text/plain": [
              "(2870,)"
            ]
          },
          "metadata": {},
          "execution_count": 39
        }
      ]
    },
    {
      "cell_type": "code",
      "source": [
        "X_test.shape"
      ],
      "metadata": {
        "colab": {
          "base_uri": "https://localhost:8080/"
        },
        "id": "j5Hi-_Xin77B",
        "outputId": "2fe1e7fd-f7a3-4270-b126-7b82d1c46d72"
      },
      "execution_count": 41,
      "outputs": [
        {
          "output_type": "execute_result",
          "data": {
            "text/plain": [
              "(3288, 150, 150, 1)"
            ]
          },
          "metadata": {},
          "execution_count": 41
        }
      ]
    },
    {
      "cell_type": "code",
      "source": [
        "Y_test.shape"
      ],
      "metadata": {
        "colab": {
          "base_uri": "https://localhost:8080/"
        },
        "id": "J-8K3yUOoBor",
        "outputId": "3fdd723a-4c2a-43fb-da65-f81f204fb9c9"
      },
      "execution_count": 42,
      "outputs": [
        {
          "output_type": "execute_result",
          "data": {
            "text/plain": [
              "(3288,)"
            ]
          },
          "metadata": {},
          "execution_count": 42
        }
      ]
    },
    {
      "cell_type": "code",
      "source": [
        "model=tf.keras.models.Sequential([\n",
        "    # convolution_layer\n",
        "    tf.keras.layers.Conv2D(filters=64,kernel_size=(3,3),activation='relu',input_shape=(150,150,1)),\n",
        "    # Maxpooling\n",
        "    tf.keras.layers.MaxPool2D(pool_size=(2,2)),\n",
        "    # stride ==how much position it should shift\n",
        "    # if stride=None,by default equal to pool_size,\n",
        "    tf.keras.layers.Flatten(),\n",
        "    # flatten layer\n",
        "    tf.keras.layers.Dense(units=128,activation='relu'),\n",
        "    # Hidden Layer\n",
        "    tf.keras.layers.Dense(units=4,activation='softmax')\n",
        "])"
      ],
      "metadata": {
        "id": "gpUj4kXcf25d"
      },
      "execution_count": 48,
      "outputs": []
    },
    {
      "cell_type": "code",
      "source": [
        "model.compile(optimizer='adam',loss='sparse_categorical_crossentropy',metrics=['accuracy'])\n",
        "# optimizer=fumction which are working for weight adjustment\n",
        "\n",
        "# different types\n",
        "# gradient descent optimizer\n",
        "# stochastic gradient descent optimizer\n",
        "\n",
        "#\n"
      ],
      "metadata": {
        "id": "n5bHIJiWrJEM"
      },
      "execution_count": 52,
      "outputs": []
    },
    {
      "cell_type": "code",
      "source": [
        "model.fit(X_train,Y_train,batch_size=12,epochs=4)"
      ],
      "metadata": {
        "colab": {
          "base_uri": "https://localhost:8080/"
        },
        "id": "yueudoU3uqLN",
        "outputId": "798facac-75ba-4d2e-e8ed-33c430f8bdb9"
      },
      "execution_count": 53,
      "outputs": [
        {
          "output_type": "stream",
          "name": "stdout",
          "text": [
            "Epoch 1/4\n",
            "\u001b[1m240/240\u001b[0m \u001b[32m━━━━━━━━━━━━━━━━━━━━\u001b[0m\u001b[37m\u001b[0m \u001b[1m277s\u001b[0m 1s/step - accuracy: 0.9768 - loss: 0.0683\n",
            "Epoch 2/4\n",
            "\u001b[1m240/240\u001b[0m \u001b[32m━━━━━━━━━━━━━━━━━━━━\u001b[0m\u001b[37m\u001b[0m \u001b[1m320s\u001b[0m 1s/step - accuracy: 0.9901 - loss: 0.0455\n",
            "Epoch 3/4\n",
            "\u001b[1m240/240\u001b[0m \u001b[32m━━━━━━━━━━━━━━━━━━━━\u001b[0m\u001b[37m\u001b[0m \u001b[1m324s\u001b[0m 1s/step - accuracy: 0.9892 - loss: 0.0338\n",
            "Epoch 4/4\n",
            "\u001b[1m240/240\u001b[0m \u001b[32m━━━━━━━━━━━━━━━━━━━━\u001b[0m\u001b[37m\u001b[0m \u001b[1m276s\u001b[0m 1s/step - accuracy: 0.9947 - loss: 0.0196\n"
          ]
        },
        {
          "output_type": "execute_result",
          "data": {
            "text/plain": [
              "<keras.src.callbacks.history.History at 0x79d3f46c6610>"
            ]
          },
          "metadata": {},
          "execution_count": 53
        }
      ]
    },
    {
      "cell_type": "code",
      "source": [
        "loss,accuracy=model.evaluate(X_test,Y_test)\n",
        "print(\"Loss\",loss)\n",
        "print(\"Accuracy\",accuracy)\n",
        ""
      ],
      "metadata": {
        "colab": {
          "base_uri": "https://localhost:8080/"
        },
        "id": "vpm4LFwLv9Nh",
        "outputId": "a68a1c9f-2150-40ee-8662-11c4c11496cd"
      },
      "execution_count": 56,
      "outputs": [
        {
          "output_type": "stream",
          "name": "stdout",
          "text": [
            "\u001b[1m103/103\u001b[0m \u001b[32m━━━━━━━━━━━━━━━━━━━━\u001b[0m\u001b[37m\u001b[0m \u001b[1m35s\u001b[0m 343ms/step - accuracy: 0.0409 - loss: 8.4238\n",
            "Loss 7.344191551208496\n",
            "Accuracy 0.25\n"
          ]
        }
      ]
    },
    {
      "cell_type": "code",
      "source": [
        "image_path='/content/drive/MyDrive/Deep_Learning/Brain-Tumor-Classification-DataSet-master/Testing/no_tumor/image(10).jpg'\n",
        "image=imread(image_path)\n",
        "resized_image=resize(image,(150,150,1))\n",
        "# resized_image.shape\n",
        "new_image=resized_image.reshape(1,150,150,1)\n",
        "# training data shape is 4 dimension hence reshape the image\n"
      ],
      "metadata": {
        "id": "rNpK97T-wdcz"
      },
      "execution_count": 59,
      "outputs": []
    },
    {
      "cell_type": "code",
      "source": [
        "pred=model.predict(new_image)\n",
        "pred\n",
        "# 4 numerical values"
      ],
      "metadata": {
        "colab": {
          "base_uri": "https://localhost:8080/"
        },
        "id": "ANBP5b0Ty_Ju",
        "outputId": "56c96d04-5099-46b5-8afb-281dcbe834ba"
      },
      "execution_count": 60,
      "outputs": [
        {
          "output_type": "stream",
          "name": "stdout",
          "text": [
            "\u001b[1m1/1\u001b[0m \u001b[32m━━━━━━━━━━━━━━━━━━━━\u001b[0m\u001b[37m\u001b[0m \u001b[1m0s\u001b[0m 99ms/step\n"
          ]
        },
        {
          "output_type": "execute_result",
          "data": {
            "text/plain": [
              "array([[6.1858851e-09, 2.0497402e-09, 9.9998617e-01, 1.3815734e-05]],\n",
              "      dtype=float32)"
            ]
          },
          "metadata": {},
          "execution_count": 60
        }
      ]
    },
    {
      "cell_type": "code",
      "source": [
        "ind=pred.argmax()\n",
        "ind"
      ],
      "metadata": {
        "colab": {
          "base_uri": "https://localhost:8080/"
        },
        "id": "mdxnrMxZzy8_",
        "outputId": "5f96043a-f79b-40e6-cb4c-153109c31ac2"
      },
      "execution_count": 61,
      "outputs": [
        {
          "output_type": "execute_result",
          "data": {
            "text/plain": [
              "2"
            ]
          },
          "metadata": {},
          "execution_count": 61
        }
      ]
    },
    {
      "cell_type": "code",
      "source": [
        "categories[ind]"
      ],
      "metadata": {
        "colab": {
          "base_uri": "https://localhost:8080/",
          "height": 35
        },
        "id": "NAAx5FBg07NS",
        "outputId": "d0952138-4eec-40bb-84d5-00d83349d4b1"
      },
      "execution_count": 62,
      "outputs": [
        {
          "output_type": "execute_result",
          "data": {
            "text/plain": [
              "'no_tumor'"
            ],
            "application/vnd.google.colaboratory.intrinsic+json": {
              "type": "string"
            }
          },
          "metadata": {},
          "execution_count": 62
        }
      ]
    }
  ]
}
