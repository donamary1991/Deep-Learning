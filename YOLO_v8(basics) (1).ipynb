{
  "nbformat": 4,
  "nbformat_minor": 0,
  "metadata": {
    "colab": {
      "provenance": []
    },
    "kernelspec": {
      "name": "python3",
      "display_name": "Python 3"
    },
    "language_info": {
      "name": "python"
    }
  },
  "cells": [
    {
      "cell_type": "code",
      "execution_count": null,
      "metadata": {
        "id": "gmly8U8M3ixA"
      },
      "outputs": [],
      "source": [
        "!pip list"
      ]
    },
    {
      "cell_type": "code",
      "source": [
        "!pip install ultralytics"
      ],
      "metadata": {
        "id": "iP3HD8rq3xSx"
      },
      "execution_count": null,
      "outputs": []
    },
    {
      "cell_type": "code",
      "source": [
        "import ultralytics\n",
        "model=ultralytics.YOLO('yolov8n.pt')"
      ],
      "metadata": {
        "id": "o07zSJzR5vAq"
      },
      "execution_count": null,
      "outputs": []
    },
    {
      "cell_type": "code",
      "source": [
        "import cv2\n",
        "import google.colab.patches import cv2_imshow\n",
        "results=model(['',''])\n",
        "for result in results:\n",
        "  result.save(filename='result.jpg')\n",
        "  img=cv2.imread('result.jpg')\n",
        "  cv2_imshow(img)\n",
        "\n",
        "# provide the image paths or URLs to perform object detection on.\n",
        "# specifies the path\n",
        "#  to the YOLOv8 model file that will be used for object detection."
      ],
      "metadata": {
        "id": "HOw-ixjn9iRl"
      },
      "execution_count": null,
      "outputs": []
    },
    {
      "cell_type": "code",
      "source": [
        "# OR\n",
        "import ultralytics\n",
        "from google.colab.patches import cv2_imshow\n",
        "import cv2\n",
        "\n",
        "# Load the YOLOv8 model\n",
        "model = ultralytics.YOLO('yolov8n.pt')\n",
        "\n",
        "# Perform prediction on an image\n",
        "results = model.predict(source=\"path/to/your/image.jpg\", save=True)  # Replace with your image path\n",
        "\n",
        "# Display the results\n",
        "for result in results:\n",
        "    img = cv2.imread(result.files[0])  # Read the saved image\n",
        "    cv2_imshow(img)  # Display the image using cv2_imshow"
      ],
      "metadata": {
        "id": "myXF-THZDhJS"
      },
      "execution_count": null,
      "outputs": []
    }
  ]
}