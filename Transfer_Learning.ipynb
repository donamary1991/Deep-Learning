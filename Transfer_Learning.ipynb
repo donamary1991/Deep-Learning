{
  "nbformat": 4,
  "nbformat_minor": 0,
  "metadata": {
    "colab": {
      "provenance": []
    },
    "kernelspec": {
      "name": "python3",
      "display_name": "Python 3"
    },
    "language_info": {
      "name": "python"
    }
  },
  "cells": [
    {
      "cell_type": "code",
      "execution_count": 2,
      "metadata": {
        "id": "m73SGetgtyyv"
      },
      "outputs": [],
      "source": [
        "import os\n",
        "from keras.layers import Dense,Flatten\n",
        "from keras.models import Model\n",
        "from keras.applications.vgg16 import VGG16\n",
        "from tensorflow.keras.preprocessing.image import ImageDataGenerator\n",
        "# ImageDataGenerator-image augmentation,image zoom,image flip\n",
        "import numpy as np\n",
        "import matplotlib.pyplot as plt"
      ]
    },
    {
      "cell_type": "code",
      "source": [
        "IMAGE_SIZE=[224,224]\n",
        "# i/p image size of vgg16\n"
      ],
      "metadata": {
        "id": "bxkXs7WXvat8"
      },
      "execution_count": 4,
      "outputs": []
    },
    {
      "cell_type": "code",
      "source": [
        "train_path=''\n",
        "test_path=''"
      ],
      "metadata": {
        "id": "k27Q45rSv6U2"
      },
      "execution_count": 5,
      "outputs": []
    },
    {
      "cell_type": "code",
      "source": [
        "vgg=VGG16(input_shape=IMAGE_SIZE+[3],weights='imagenet',include_top=False)\n",
        "# conv layer,max_pooling are only used from fully connected\n",
        "# download weight from imagenet"
      ],
      "metadata": {
        "id": "SvDEbDa7yLJG"
      },
      "execution_count": 7,
      "outputs": []
    },
    {
      "cell_type": "markdown",
      "source": [
        "weights of conv and max pooling must not be updated"
      ],
      "metadata": {
        "id": "Uvs3y3Br01o_"
      }
    },
    {
      "cell_type": "code",
      "source": [
        "# must do\n",
        "for layer in vgg.layers:\n",
        "  layer.trainable=False"
      ],
      "metadata": {
        "id": "eZUo6BvZ1B0n"
      },
      "execution_count": 8,
      "outputs": []
    },
    {
      "cell_type": "code",
      "source": [
        "# vgg.output o/p variable(o/p of conv + max pooling)\n",
        "x=Flatten()(vgg.output)\n",
        "\n",
        "# fully connected layer is not used here\n",
        "\n",
        "# o/p layer\n",
        "prediction=Dense(2,activation='softmax')(x)"
      ],
      "metadata": {
        "id": "NSZARBS61gZ0"
      },
      "execution_count": 9,
      "outputs": []
    }
  ]
}