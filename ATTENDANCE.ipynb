{
 "cells": [
  {
   "cell_type": "code",
   "execution_count": 5,
   "metadata": {},
   "outputs": [],
   "source": [
    "import mysql.connector\n",
    "import os\n",
    "import datetime\n",
    "\n",
    "\n"
   ]
  },
  {
   "cell_type": "code",
   "execution_count": null,
   "metadata": {},
   "outputs": [],
   "source": [
    "# Connect to MySQL\n",
    "# conn = mysql.connector.connect(\n",
    "#     host=\"localhost\",\n",
    "#     user=\"root\",\n",
    "#     password=\"Password@123\",\n",
    "#     database=\"AttendanceDB\"\n",
    "# )"
   ]
  },
  {
   "cell_type": "code",
   "execution_count": null,
   "metadata": {},
   "outputs": [
    {
     "name": "stdout",
     "output_type": "stream",
     "text": [
      "Student records inserted successfully!\n"
     ]
    }
   ],
   "source": [
    "# to create a cursor object in MySQL, which allows us to execute SQL queries in Python.\n",
    "# It is used to execute queries like SELECT, INSERT, UPDATE, and DELETE.\n",
    "\n",
    "# cursor=conn.cursor()\n",
    "\n",
    "\n",
    "# # Student details\n",
    "# students = [\n",
    "#     (\"Anushka\", \"/home/user/Deep_Learning1/ATTENDANCE/class_list/Anushka.jpeg\"),\n",
    "#     (\"jordon\", \"/home/user/Deep_Learning1/ATTENDANCE/class_list/jordon.jpeg\"),\n",
    "#     (\"madhuri\", \"/home/user/Deep_Learning1/ATTENDANCE/class_list/madhuri.jpeg\"),\n",
    "#     (\"sandra\", \"/home/user/Deep_Learning1/ATTENDANCE/class_list/sandra.jpeg\"),\n",
    "#     (\"sidhi\", \"/home/user/Deep_Learning1/ATTENDANCE/class_list/sidhi.jpeg\"),\n",
    "#     (\"Akash\",\"/home/user/Deep_Learning1/ATTENDANCE/class_list/Akash.jpg\")  \n",
    "# ]\n",
    "# # Insert data\n",
    "# query = \"INSERT INTO STUDENTS_RECORD ( NAME, IMAGE_PATH) VALUES (%s, %s)\"\n",
    "# cursor.executemany(query, students)\n",
    "\n",
    "# # Commit the transaction (Save changes)\n",
    "# conn.commit()\n",
    "# #  Close the connection\n",
    "# cursor.close()\n",
    "# conn.close()\n",
    "\n",
    "# print(\"Student records inserted successfully!\")"
   ]
  },
  {
   "cell_type": "code",
   "execution_count": null,
   "metadata": {},
   "outputs": [
    {
     "name": "stdout",
     "output_type": "stream",
     "text": [
      "['madhuri.jpeg', 'Anushka.jpeg', 'sandra.jpeg', 'Akash.jpg', 'sidhi.jpeg', 'jordon.jpeg']\n"
     ]
    }
   ],
   "source": [
    "\n",
    "# # Connect to MySQL\n",
    "# conn = mysql.connector.connect(\n",
    "#     host=\"localhost\",\n",
    "#     user=\"root\",\n",
    "#     password=\"Password@123\",\n",
    "#     database=\"AttendanceDB\"\n",
    "# )\n",
    "\n",
    "# cursor = conn.cursor()\n",
    "\n",
    "# # Folder containing student images\n",
    "# image_folder = \"/home/user/Deep_Learning1/ATTENDANCE/class_list\"\n",
    "# print(os.listdir(image_folder))\n",
    "\n",
    "# # Insert student names and paths automatically\n",
    "# for filename in os.listdir(image_folder):\n",
    "#     if filename.endswith(\".jpg\") or filename.endswith(\".png\"):\n",
    "#         name = os.path.splitext(filename)[0]  # Extract name from filename\n",
    "#         image_path = os.path.join(image_folder, filename)\n",
    "        \n",
    "#         query = \"INSERT INTO STUDENTS_RECORD ( NAME, IMAGE_PATH) VALUES (%s, %s)\"\n",
    "#         cursor.execute(query, (name, image_path))\n",
    "\n",
    "# # Commit and close\n",
    "# conn.commit()\n",
    "# cursor.close()\n",
    "# conn.close()\n",
    "\n",
    "# print(\"All student images have been inserted into the database!\")"
   ]
  },
  {
   "cell_type": "code",
   "execution_count": 3,
   "metadata": {},
   "outputs": [],
   "source": [
    "import cv2\n",
    "import numpy as np\n",
    "import face_recognition\n",
    "import mysql.connector\n",
    "\n",
    "def fetch_students():\n",
    "    conn = mysql.connector.connect(host=\"localhost\", user=\"root\", password=\"Password@123\", database=\"AttendanceDB\")\n",
    "    cursor = conn.cursor()\n",
    "    cursor.execute(\"SELECT name, image_path FROM STUDENTS_RECORD\")\n",
    "    students = cursor.fetchall()\n",
    "    # Gets all rows from the executed query and stores them in the students variable.\n",
    "    conn.close()\n",
    "    return students\n",
    "\n",
    "def encode_faces(students):\n",
    "    encoded_faces = {}\n",
    "    for name, img_path in students:\n",
    "        image = face_recognition.load_image_file(img_path)\n",
    "        encoding = face_recognition.face_encodings(image)\n",
    "        if encoding:\n",
    "            encoded_faces[name] = encoding[0]\n",
    "    return encoded_faces\n",
    "\n",
    "\n"
   ]
  },
  {
   "cell_type": "code",
   "execution_count": 6,
   "metadata": {},
   "outputs": [],
   "source": [
    "def mark_attendance(name):\n",
    "    conn = mysql.connector.connect(\n",
    "        host=\"localhost\",\n",
    "        user=\"root\",\n",
    "        password=\"Password@123\",\n",
    "        database=\"AttendanceDB\"\n",
    "    )\n",
    "    cursor = conn.cursor()\n",
    "\n",
    "    # Check if the student has already been marked present today\n",
    "    cursor.execute(\n",
    "        \"SELECT * FROM ATTENDANCE_PRESENT WHERE NAME = %s AND DATE = CURDATE()\",\n",
    "        (name,)\n",
    "    )\n",
    "    result = cursor.fetchone()  # Fetch one record\n",
    "\n",
    "    if result is None:  # If no record exists, insert attendance\n",
    "        cursor.execute(\n",
    "            \"INSERT INTO ATTENDANCE_PRESENT (NAME, DATE, TIME) VALUES (%s, CURDATE(), CURTIME())\",\n",
    "            (name,)\n",
    "        )\n",
    "        conn.commit()\n",
    "\n",
    "    conn.close()\n",
    "\n",
    "students = fetch_students()\n",
    "known_faces = encode_faces(students)\n",
    "\n",
    "cap = cv2.VideoCapture(0)\n",
    "\n",
    "while True:\n",
    "    ret, frame = cap.read()\n",
    "    small_frame = cv2.resize(frame, (0, 0), fx=0.25, fy=0.25)\n",
    "    rgb_frame = cv2.cvtColor(small_frame, cv2.COLOR_BGR2RGB)\n",
    "\n",
    "    face_locations = face_recognition.face_locations(rgb_frame)\n",
    "    face_encodings = face_recognition.face_encodings(rgb_frame, face_locations)\n",
    "\n",
    "    for face_encoding, face_location in zip(face_encodings, face_locations):\n",
    "        matches = face_recognition.compare_faces(list(known_faces.values()), face_encoding)\n",
    "        \n",
    "        if True in matches:\n",
    "            first_match_index = matches.index(True)\n",
    "            name = list(known_faces.keys())[first_match_index]\n",
    "            \n",
    "            # Mark attendance only once per day\n",
    "            mark_attendance(name)\n",
    "        else:\n",
    "            name = \"Unknown\"\n",
    "\n",
    "        top, right, bottom, left = face_location\n",
    "        cv2.rectangle(frame, (left*4, top*4), (right*4, bottom*4), (0, 0, 255), 2)\n",
    "        if name in list(known_faces.keys()):\n",
    "         cv2.putText(frame, f'Attendence marked for {name} on {datetime.datetime.now().strftime(\"%Y-%m-%d\")}', (left*4, top*4 - 10), cv2.FONT_HERSHEY_SIMPLEX, 0.75, (0, 255, 0), 2)\n",
    "        else:\n",
    "         cv2.putText(frame, name, (left*4, top*4 - 10), cv2.FONT_HERSHEY_SIMPLEX, 0.75, (0, 255, 0), 2)\n",
    "        \n",
    "    cv2.imshow(\"Face Recognition Attendance\", frame)\n",
    "\n",
    "    if cv2.waitKey(1) & 0xFF == ord('q'):\n",
    "        break\n",
    "\n",
    "cap.release()\n",
    "cv2.destroyAllWindows()\n"
   ]
  },
  {
   "cell_type": "code",
   "execution_count": null,
   "metadata": {},
   "outputs": [],
   "source": [
    "\n"
   ]
  },
  {
   "cell_type": "code",
   "execution_count": 9,
   "metadata": {},
   "outputs": [
    {
     "name": "stdout",
     "output_type": "stream",
     "text": [
      "{'sidhi', 'sandra', 'jordon', 'madhuri', 'Akash', 'Anushka'}\n",
      "Absentees recorded: {'sandra', 'madhuri', 'jordon', 'Anushka'}\n"
     ]
    }
   ],
   "source": [
    "import mysql.connector\n",
    "\n",
    "def mark_absentees():\n",
    "    conn = mysql.connector.connect(\n",
    "        host=\"localhost\",\n",
    "        user=\"root\",\n",
    "        password=\"Password@123\",\n",
    "        database=\"AttendanceDB\"\n",
    "    )\n",
    "    cursor = conn.cursor()\n",
    "\n",
    "    # Fetch all students from Total_students\n",
    "    cursor.execute(\"SELECT NAME FROM STUDENTS_RECORD\")\n",
    "    all_students = {row[0] for row in cursor.fetchall()}  # Convert to a set\n",
    "    print(all_students)\n",
    "\n",
    "    # Fetch students marked present today\n",
    "    cursor.execute(\"SELECT NAME FROM ATTENDANCE_PRESENT WHERE DATE = CURDATE()\")\n",
    "    present_students = {row[0] for row in cursor.fetchall()}  # Convert to a set\n",
    "\n",
    "    # Find absentees by subtracting sets\n",
    "    absent_students = all_students - present_students\n",
    "\n",
    "    # Insert absentees into ATTENDANCE_ABSENT table\n",
    "    for student in absent_students:\n",
    "        cursor.execute(\"INSERT INTO ATTENDANCE_ABSENT (NAME, DATE) VALUES (%s, CURDATE())\", (student,))\n",
    "\n",
    "    conn.commit()\n",
    "    conn.close()\n",
    "    print(f\"Absentees recorded: {absent_students}\")\n",
    "mark_absentees()"
   ]
  }
 ],
 "metadata": {
  "kernelspec": {
   "display_name": "Python 3",
   "language": "python",
   "name": "python3"
  },
  "language_info": {
   "codemirror_mode": {
    "name": "ipython",
    "version": 3
   },
   "file_extension": ".py",
   "mimetype": "text/x-python",
   "name": "python",
   "nbconvert_exporter": "python",
   "pygments_lexer": "ipython3",
   "version": "3.8.10"
  }
 },
 "nbformat": 4,
 "nbformat_minor": 2
}
