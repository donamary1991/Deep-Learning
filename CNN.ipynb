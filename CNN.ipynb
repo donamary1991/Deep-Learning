{
  "nbformat": 4,
  "nbformat_minor": 0,
  "metadata": {
    "colab": {
      "provenance": [],
      "gpuType": "T4"
    },
    "kernelspec": {
      "name": "python3",
      "display_name": "Python 3"
    },
    "language_info": {
      "name": "python"
    },
    "accelerator": "GPU"
  },
  "cells": [
    {
      "cell_type": "code",
      "execution_count": null,
      "metadata": {
        "colab": {
          "base_uri": "https://localhost:8080/"
        },
        "id": "RY-_qIGC8hEd",
        "outputId": "04525dea-baab-439a-af08-53236a9a05db"
      },
      "outputs": [
        {
          "output_type": "stream",
          "name": "stdout",
          "text": [
            "Fri Jan 10 04:21:12 2025       \n",
            "+---------------------------------------------------------------------------------------+\n",
            "| NVIDIA-SMI 535.104.05             Driver Version: 535.104.05   CUDA Version: 12.2     |\n",
            "|-----------------------------------------+----------------------+----------------------+\n",
            "| GPU  Name                 Persistence-M | Bus-Id        Disp.A | Volatile Uncorr. ECC |\n",
            "| Fan  Temp   Perf          Pwr:Usage/Cap |         Memory-Usage | GPU-Util  Compute M. |\n",
            "|                                         |                      |               MIG M. |\n",
            "|=========================================+======================+======================|\n",
            "|   0  Tesla T4                       Off | 00000000:00:04.0 Off |                    0 |\n",
            "| N/A   75C    P0              29W /  70W |    643MiB / 15360MiB |      0%      Default |\n",
            "|                                         |                      |                  N/A |\n",
            "+-----------------------------------------+----------------------+----------------------+\n",
            "                                                                                         \n",
            "+---------------------------------------------------------------------------------------+\n",
            "| Processes:                                                                            |\n",
            "|  GPU   GI   CI        PID   Type   Process name                            GPU Memory |\n",
            "|        ID   ID                                                             Usage      |\n",
            "|=======================================================================================|\n",
            "+---------------------------------------------------------------------------------------+\n"
          ]
        }
      ],
      "source": [
        "!nvidia-smi\n",
        "# !root path\n",
        "# 16GB-we can use\n",
        "# fashion mnist dataset\n",
        "# 10type of categories 70000 images"
      ]
    },
    {
      "cell_type": "code",
      "source": [
        "import tensorflow as tf\n",
        "# package-->neural network for training another eg: pytorch"
      ],
      "metadata": {
        "id": "EKslOl3S96Fh"
      },
      "execution_count": null,
      "outputs": []
    },
    {
      "cell_type": "code",
      "source": [
        "mnist=tf.keras.datasets.fashion_mnist"
      ],
      "metadata": {
        "id": "bBlidzsK-Gsg"
      },
      "execution_count": null,
      "outputs": []
    },
    {
      "cell_type": "code",
      "source": [
        "(training_images,training_labels),(testing_images,testing_labels)=mnist.load_data()"
      ],
      "metadata": {
        "id": "58XwTnZj-Xep"
      },
      "execution_count": null,
      "outputs": []
    },
    {
      "cell_type": "code",
      "source": [
        "print(\"no of training images:\",len(training_images))\n",
        "print(\"no of testing images:\",len(testing_images))"
      ],
      "metadata": {
        "colab": {
          "base_uri": "https://localhost:8080/"
        },
        "id": "yCnskXI6_QgQ",
        "outputId": "95ba0277-c1c9-4a59-bbc9-f76a09ef7d51"
      },
      "execution_count": null,
      "outputs": [
        {
          "output_type": "stream",
          "name": "stdout",
          "text": [
            "no of training images: 60000\n",
            "no of testing images: 10000\n"
          ]
        }
      ]
    },
    {
      "cell_type": "code",
      "source": [
        "import matplotlib.pyplot as plt\n",
        "plt.imshow(training_images[0])\n",
        "# images are in BGR format\n",
        "# 28*28 pixel\n"
      ],
      "metadata": {
        "colab": {
          "base_uri": "https://localhost:8080/",
          "height": 448
        },
        "id": "eDSJm-7C_Yvs",
        "outputId": "542a6260-cced-44d8-e0db-5bafe465ba80"
      },
      "execution_count": null,
      "outputs": [
        {
          "output_type": "execute_result",
          "data": {
            "text/plain": [
              "<matplotlib.image.AxesImage at 0x7ae7b7389a20>"
            ]
          },
          "metadata": {},
          "execution_count": 88
        },
        {
          "output_type": "display_data",
          "data": {
            "text/plain": [
              "<Figure size 640x480 with 1 Axes>"
            ],
            "image/png": "[encoded data removed]"
          },
          "metadata": {}
        }
      ]
    },
    {
      "cell_type": "code",
      "source": [
        "# Normalisation\n",
        "# pixel values are normalised\n",
        "training_images=training_images/255.0\n",
        "testing_images=testing_images/255.0"
      ],
      "metadata": {
        "id": "5lHGl6mcAs7v"
      },
      "execution_count": null,
      "outputs": []
    },
    {
      "cell_type": "code",
      "source": [
        "# model\n",
        "# sequential==forward+backward\n",
        "# define different layers inside sequential\n",
        "# relu activation=max(0,x)\n",
        "# only nodes triggers only values>0 checks whether values are greater than 0(graph in google)\n",
        "# nodes triggers using relu activation function\n",
        "# kernel_size==filter size\n",
        "model=tf.keras.models.Sequential([\n",
        "\n",
        "    # convolution layer\n",
        "    tf.keras.layers.Conv2D(filters=64,kernel_size=(3,3),activation='relu',input_shape=(28,28,1)),\n",
        "\n",
        "    # pooling layer\n",
        "    tf.keras.layers.MaxPooling2D(pool_size=(2,2)),\n",
        "\n",
        "    # fully connected layer\n",
        "    tf.keras.layers.Flatten(),# creating first layer(input layer)\n",
        "    tf.keras.layers.Dense(units=128,activation='relu'),# create interconnecting layers ,1 hidden leyer,units=number of nodes,each nodes perform summation,activation function(renu),nn=neural network\n",
        "    tf.keras.layers.Dense(units=10,activation='softmax') #output layer,  10 categories=no. of nodes,softmax=return max value out of accuracy of 10 categories\n",
        "])\n"
      ],
      "metadata": {
        "id": "dKfGW8h8BAs6"
      },
      "execution_count": null,
      "outputs": []
    },
    {
      "cell_type": "code",
      "source": [
        "# loss function==for backward propagation\n",
        "\n",
        "# MSE-Mean Squared Error\n",
        "\n",
        "#     regression task\n",
        "\n",
        "# MAE-Mean Absolute error\n",
        "  #  --regression task\n",
        "\n",
        "# Binary cross entropy\n",
        "#          -binary classification\n",
        "\n",
        "\n",
        "# categorical cross entropy\n",
        "  #  ---multiclass classification\n",
        "  #  ---one hot encoded (true class labels)\n",
        "  #  --here we cannot use in this case we use labels which is a number\n",
        "  # eg:trouser,shirt,sneaker(true class labels)\n",
        "\n",
        "\n",
        "# sparse categorical cross entropy\n",
        "  # ----multi class classification\n",
        "  # ----not one hot encoded(integer class labels)\n",
        "  # 0,1,2(integer class labels\n",
        "\n",
        "'''\n",
        "    Optimizers\n",
        "    **************\n",
        "    Adam(most efficient)\n",
        "    gradient descent\n",
        "    stochastic gradient descent\n",
        "    adagrad\n",
        "'''\n"
      ],
      "metadata": {
        "colab": {
          "base_uri": "https://localhost:8080/",
          "height": 36
        },
        "id": "8JDJnaqHBI8O",
        "outputId": "79c74cb9-f1c8-45fa-c90e-460ea43f9f63"
      },
      "execution_count": null,
      "outputs": [
        {
          "output_type": "execute_result",
          "data": {
            "text/plain": [
              "'\\n    Optimizers\\n    **************\\n    Adam(most efficient)\\n    gradient descent\\n    stochastic gradient descent\\n    adagrad\\n'"
            ],
            "application/vnd.google.colaboratory.intrinsic+json": {
              "type": "string"
            }
          },
          "metadata": {},
          "execution_count": 91
        }
      ]
    },
    {
      "cell_type": "code",
      "source": [
        "model.compile(optimizer='adam',loss='sparse_categorical_crossentropy',metrics=['accuracy'])"
      ],
      "metadata": {
        "id": "pt7ByGv1JDZH"
      },
      "execution_count": null,
      "outputs": []
    },
    {
      "cell_type": "code",
      "source": [
        "'''\n",
        "for each epochs:\n",
        "  if accuracy increases and loss decreases:\n",
        "    model=sucess\n",
        "    else:\n",
        "    model=failed\n",
        "'''"
      ],
      "metadata": {
        "id": "c-cASJlwKSY0",
        "colab": {
          "base_uri": "https://localhost:8080/",
          "height": 36
        },
        "outputId": "c66a9429-3e1c-463e-decf-d126760a2a18"
      },
      "execution_count": null,
      "outputs": [
        {
          "output_type": "execute_result",
          "data": {
            "text/plain": [
              "'\\nfor each epochs:\\n  if accuracy increases and loss decreases:\\n    model=sucess\\n    else:\\n    model=failed\\n'"
            ],
            "application/vnd.google.colaboratory.intrinsic+json": {
              "type": "string"
            }
          },
          "metadata": {},
          "execution_count": 93
        }
      ]
    },
    {
      "cell_type": "code",
      "source": [
        "model.fit(training_images,training_labels,epochs=20)"
      ],
      "metadata": {
        "colab": {
          "base_uri": "https://localhost:8080/"
        },
        "id": "sg0SXh6-J7ft",
        "outputId": "e21364ce-9e02-4310-bd09-a1ed97e62d2d"
      },
      "execution_count": null,
      "outputs": [
        {
          "output_type": "stream",
          "name": "stdout",
          "text": [
            "Epoch 1/20\n",
            "\u001b[1m1875/1875\u001b[0m \u001b[32m━━━━━━━━━━━━━━━━━━━━\u001b[0m\u001b[37m\u001b[0m \u001b[1m6s\u001b[0m 2ms/step - accuracy: 0.8268 - loss: 0.4980\n",
            "Epoch 2/20\n",
            "\u001b[1m1875/1875\u001b[0m \u001b[32m━━━━━━━━━━━━━━━━━━━━\u001b[0m\u001b[37m\u001b[0m \u001b[1m5s\u001b[0m 2ms/step - accuracy: 0.9047 - loss: 0.2609\n",
            "Epoch 3/20\n",
            "\u001b[1m1875/1875\u001b[0m \u001b[32m━━━━━━━━━━━━━━━━━━━━\u001b[0m\u001b[37m\u001b[0m \u001b[1m5s\u001b[0m 2ms/step - accuracy: 0.9267 - loss: 0.2028\n",
            "Epoch 4/20\n",
            "\u001b[1m1875/1875\u001b[0m \u001b[32m━━━━━━━━━━━━━━━━━━━━\u001b[0m\u001b[37m\u001b[0m \u001b[1m5s\u001b[0m 3ms/step - accuracy: 0.9381 - loss: 0.1678\n",
            "Epoch 5/20\n",
            "\u001b[1m1875/1875\u001b[0m \u001b[32m━━━━━━━━━━━━━━━━━━━━\u001b[0m\u001b[37m\u001b[0m \u001b[1m4s\u001b[0m 2ms/step - accuracy: 0.9481 - loss: 0.1376\n",
            "Epoch 6/20\n",
            "\u001b[1m1875/1875\u001b[0m \u001b[32m━━━━━━━━━━━━━━━━━━━━\u001b[0m\u001b[37m\u001b[0m \u001b[1m5s\u001b[0m 2ms/step - accuracy: 0.9585 - loss: 0.1114\n",
            "Epoch 7/20\n",
            "\u001b[1m1875/1875\u001b[0m \u001b[32m━━━━━━━━━━━━━━━━━━━━\u001b[0m\u001b[37m\u001b[0m \u001b[1m6s\u001b[0m 3ms/step - accuracy: 0.9652 - loss: 0.0925\n",
            "Epoch 8/20\n",
            "\u001b[1m1875/1875\u001b[0m \u001b[32m━━━━━━━━━━━━━━━━━━━━\u001b[0m\u001b[37m\u001b[0m \u001b[1m4s\u001b[0m 2ms/step - accuracy: 0.9737 - loss: 0.0729\n",
            "Epoch 9/20\n",
            "\u001b[1m1875/1875\u001b[0m \u001b[32m━━━━━━━━━━━━━━━━━━━━\u001b[0m\u001b[37m\u001b[0m \u001b[1m5s\u001b[0m 2ms/step - accuracy: 0.9794 - loss: 0.0577\n",
            "Epoch 10/20\n",
            "\u001b[1m1875/1875\u001b[0m \u001b[32m━━━━━━━━━━━━━━━━━━━━\u001b[0m\u001b[37m\u001b[0m \u001b[1m5s\u001b[0m 2ms/step - accuracy: 0.9825 - loss: 0.0504\n",
            "Epoch 11/20\n",
            "\u001b[1m1875/1875\u001b[0m \u001b[32m━━━━━━━━━━━━━━━━━━━━\u001b[0m\u001b[37m\u001b[0m \u001b[1m4s\u001b[0m 2ms/step - accuracy: 0.9852 - loss: 0.0422\n",
            "Epoch 12/20\n",
            "\u001b[1m1875/1875\u001b[0m \u001b[32m━━━━━━━━━━━━━━━━━━━━\u001b[0m\u001b[37m\u001b[0m \u001b[1m5s\u001b[0m 3ms/step - accuracy: 0.9874 - loss: 0.0354\n",
            "Epoch 13/20\n",
            "\u001b[1m1875/1875\u001b[0m \u001b[32m━━━━━━━━━━━━━━━━━━━━\u001b[0m\u001b[37m\u001b[0m \u001b[1m4s\u001b[0m 2ms/step - accuracy: 0.9902 - loss: 0.0289\n",
            "Epoch 14/20\n",
            "\u001b[1m1875/1875\u001b[0m \u001b[32m━━━━━━━━━━━━━━━━━━━━\u001b[0m\u001b[37m\u001b[0m \u001b[1m4s\u001b[0m 2ms/step - accuracy: 0.9906 - loss: 0.0265\n",
            "Epoch 15/20\n",
            "\u001b[1m1875/1875\u001b[0m \u001b[32m━━━━━━━━━━━━━━━━━━━━\u001b[0m\u001b[37m\u001b[0m \u001b[1m6s\u001b[0m 3ms/step - accuracy: 0.9921 - loss: 0.0235\n",
            "Epoch 16/20\n",
            "\u001b[1m1875/1875\u001b[0m \u001b[32m━━━━━━━━━━━━━━━━━━━━\u001b[0m\u001b[37m\u001b[0m \u001b[1m4s\u001b[0m 2ms/step - accuracy: 0.9933 - loss: 0.0192\n",
            "Epoch 17/20\n",
            "\u001b[1m1875/1875\u001b[0m \u001b[32m━━━━━━━━━━━━━━━━━━━━\u001b[0m\u001b[37m\u001b[0m \u001b[1m6s\u001b[0m 2ms/step - accuracy: 0.9921 - loss: 0.0222\n",
            "Epoch 18/20\n",
            "\u001b[1m1875/1875\u001b[0m \u001b[32m━━━━━━━━━━━━━━━━━━━━\u001b[0m\u001b[37m\u001b[0m \u001b[1m5s\u001b[0m 2ms/step - accuracy: 0.9941 - loss: 0.0168\n",
            "Epoch 19/20\n",
            "\u001b[1m1875/1875\u001b[0m \u001b[32m━━━━━━━━━━━━━━━━━━━━\u001b[0m\u001b[37m\u001b[0m \u001b[1m4s\u001b[0m 2ms/step - accuracy: 0.9941 - loss: 0.0169\n",
            "Epoch 20/20\n",
            "\u001b[1m1875/1875\u001b[0m \u001b[32m━━━━━━━━━━━━━━━━━━━━\u001b[0m\u001b[37m\u001b[0m \u001b[1m5s\u001b[0m 2ms/step - accuracy: 0.9946 - loss: 0.0160\n"
          ]
        },
        {
          "output_type": "execute_result",
          "data": {
            "text/plain": [
              "<keras.src.callbacks.history.History at 0x7ae7b6a7e500>"
            ]
          },
          "metadata": {},
          "execution_count": 94
        }
      ]
    },
    {
      "cell_type": "code",
      "source": [
        "test_loss,test_acc=model.evaluate(testing_images,testing_labels)"
      ],
      "metadata": {
        "colab": {
          "base_uri": "https://localhost:8080/"
        },
        "id": "IDovWevbMzc-",
        "outputId": "f795962b-e4de-4c4c-ce9b-0dca801290f5"
      },
      "execution_count": null,
      "outputs": [
        {
          "output_type": "stream",
          "name": "stdout",
          "text": [
            "\u001b[1m313/313\u001b[0m \u001b[32m━━━━━━━━━━━━━━━━━━━━\u001b[0m\u001b[37m\u001b[0m \u001b[1m1s\u001b[0m 2ms/step - accuracy: 0.9075 - loss: 0.6037\n"
          ]
        }
      ]
    },
    {
      "cell_type": "code",
      "source": [
        "print(\"testing accuracy:\",test_acc)"
      ],
      "metadata": {
        "colab": {
          "base_uri": "https://localhost:8080/"
        },
        "id": "AoCpzvH5NiqZ",
        "outputId": "9cda276c-c8d2-4ba2-e582-318a8904c7ab"
      },
      "execution_count": null,
      "outputs": [
        {
          "output_type": "stream",
          "name": "stdout",
          "text": [
            "testing accuracy: 0.9118000268936157\n"
          ]
        }
      ]
    },
    {
      "cell_type": "code",
      "source": [
        "print(\"testing_loss:\",test_loss)"
      ],
      "metadata": {
        "colab": {
          "base_uri": "https://localhost:8080/"
        },
        "id": "YVKDckyzNsrQ",
        "outputId": "9f0082a6-158d-4537-8b12-9d65e636d835"
      },
      "execution_count": null,
      "outputs": [
        {
          "output_type": "stream",
          "name": "stdout",
          "text": [
            "testing_loss: 0.5789674520492554\n"
          ]
        }
      ]
    },
    {
      "cell_type": "code",
      "source": [
        "model.save(\"mnist_CNN_model.h5\")"
      ],
      "metadata": {
        "colab": {
          "base_uri": "https://localhost:8080/"
        },
        "id": "4rLHAYQ-NyIh",
        "outputId": "bcde1063-2efc-4c1b-e538-65691172796f"
      },
      "execution_count": null,
      "outputs": [
        {
          "output_type": "stream",
          "name": "stderr",
          "text": [
            "WARNING:absl:You are saving your model as an HDF5 file via `model.save()` or `keras.saving.save_model(model)`. This file format is considered legacy. We recommend using instead the native Keras format, e.g. `model.save('my_model.keras')` or `keras.saving.save_model(model, 'my_model.keras')`. \n"
          ]
        }
      ]
    },
    {
      "cell_type": "code",
      "source": [
        "'''\n",
        "hyper parameter values\n",
        "****************************\n",
        "dataset tf.size\n",
        "epochs\n",
        "no of convolution layers\n",
        "no of pooling layers\n",
        "pool_size\n",
        "no of hidden layers\n",
        "no of units/nodes\n",
        "no of filters and filter size\n",
        "'''"
      ],
      "metadata": {
        "id": "OdgFjqZTUvr4",
        "colab": {
          "base_uri": "https://localhost:8080/",
          "height": 54
        },
        "outputId": "73862a7d-bdf2-4632-9d37-51747d62d21d"
      },
      "execution_count": null,
      "outputs": [
        {
          "output_type": "execute_result",
          "data": {
            "text/plain": [
              "'\\nhyper parameter values\\n****************************\\ndataset tf.size\\nepochs\\nno of convolution layers\\nno of pooling layers\\npool_size\\nno of hidden layers\\nno of units/nodes\\nno of filters and filter size\\n'"
            ],
            "application/vnd.google.colaboratory.intrinsic+json": {
              "type": "string"
            }
          },
          "metadata": {},
          "execution_count": 99
        }
      ]
    }
  ]
}